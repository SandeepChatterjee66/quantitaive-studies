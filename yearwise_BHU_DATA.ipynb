{
 "cells": [
  {
   "cell_type": "code",
   "execution_count": 1,
   "id": "ef6244f0",
   "metadata": {},
   "outputs": [],
   "source": [
    "import os\n",
    "import pandas as pd"
   ]
  },
  {
   "cell_type": "code",
   "execution_count": 2,
   "id": "401c2244",
   "metadata": {},
   "outputs": [],
   "source": [
    "path = os.getcwd()+'/dataset'\n",
    "files = os.listdir(path)\n",
    "#files"
   ]
  },
  {
   "cell_type": "code",
   "execution_count": 3,
   "id": "56bb4cc4",
   "metadata": {},
   "outputs": [
    {
     "data": {
      "text/plain": [
       "['savedrecs_15.xls',\n",
       " 'savedrecs_20.xls',\n",
       " 'savedrecs_18.xls',\n",
       " 'savedrecs_12.xls',\n",
       " 'savedrecs_11.xls',\n",
       " 'savedrecs_1.xls',\n",
       " 'savedrecs_10.xls',\n",
       " 'savedrecs_23.xls',\n",
       " 'savedrecs_4.xls',\n",
       " 'savedrecs_5.xls',\n",
       " 'savedrecs_8.xls',\n",
       " 'savedrecs.xls',\n",
       " 'savedrecs_16.xls',\n",
       " 'savedrecs_2.xls',\n",
       " 'savedrecs_21.xls',\n",
       " 'savedrecs_19.xls',\n",
       " 'savedrecs_17.xls',\n",
       " 'savedrecs_7.xls',\n",
       " 'savedrecs_6.xls',\n",
       " 'savedrecs_3.xls',\n",
       " 'savedrecs_22.xls',\n",
       " 'savedrecs_9.xls',\n",
       " 'savedrecs_13.xls',\n",
       " 'savedrecs_14.xls']"
      ]
     },
     "execution_count": 3,
     "metadata": {},
     "output_type": "execute_result"
    }
   ],
   "source": [
    "os.chdir(path)\n",
    "files_xls = [f for f in files if f[-3:] == 'xls']\n",
    "files_xls"
   ]
  },
  {
   "cell_type": "code",
   "execution_count": 4,
   "id": "5a9f768c",
   "metadata": {},
   "outputs": [],
   "source": [
    "dfs = []\n"
   ]
  },
  {
   "cell_type": "code",
   "execution_count": 5,
   "id": "881d6267",
   "metadata": {},
   "outputs": [],
   "source": [
    "for f in files_xls:\n",
    "    data = pd.read_excel(f)\n",
    "    dfs.append(data)"
   ]
  },
  {
   "cell_type": "code",
   "execution_count": 6,
   "id": "851c1f4f",
   "metadata": {},
   "outputs": [],
   "source": [
    "df = pd.concat(dfs)"
   ]
  },
  {
   "cell_type": "code",
   "execution_count": 7,
   "id": "c5129a07",
   "metadata": {},
   "outputs": [
    {
     "data": {
      "text/html": [
       "<div>\n",
       "<style scoped>\n",
       "    .dataframe tbody tr th:only-of-type {\n",
       "        vertical-align: middle;\n",
       "    }\n",
       "\n",
       "    .dataframe tbody tr th {\n",
       "        vertical-align: top;\n",
       "    }\n",
       "\n",
       "    .dataframe thead th {\n",
       "        text-align: right;\n",
       "    }\n",
       "</style>\n",
       "<table border=\"1\" class=\"dataframe\">\n",
       "  <thead>\n",
       "    <tr style=\"text-align: right;\">\n",
       "      <th></th>\n",
       "      <th>Publication Type</th>\n",
       "      <th>Authors</th>\n",
       "      <th>Book Authors</th>\n",
       "      <th>Book Editors</th>\n",
       "      <th>Book Group Authors</th>\n",
       "      <th>Author Full Names</th>\n",
       "      <th>Book Author Full Names</th>\n",
       "      <th>Group Authors</th>\n",
       "      <th>Article Title</th>\n",
       "      <th>Source Title</th>\n",
       "      <th>...</th>\n",
       "      <th>Web of Science Index</th>\n",
       "      <th>Research Areas</th>\n",
       "      <th>IDS Number</th>\n",
       "      <th>Pubmed Id</th>\n",
       "      <th>Open Access Designations</th>\n",
       "      <th>Highly Cited Status</th>\n",
       "      <th>Hot Paper Status</th>\n",
       "      <th>Date of Export</th>\n",
       "      <th>UT (Unique WOS ID)</th>\n",
       "      <th>Web of Science Record</th>\n",
       "    </tr>\n",
       "  </thead>\n",
       "  <tbody>\n",
       "    <tr>\n",
       "      <th>0</th>\n",
       "      <td>J</td>\n",
       "      <td>Arora, MK; Sahu, N; Upadhyay, SN; Sinha, ASK</td>\n",
       "      <td>NaN</td>\n",
       "      <td>NaN</td>\n",
       "      <td>NaN</td>\n",
       "      <td>Arora, MK; Sahu, N; Upadhyay, SN; Sinha, ASK</td>\n",
       "      <td>NaN</td>\n",
       "      <td>NaN</td>\n",
       "      <td>Alumina-supported cadmium sulfide photocatalys...</td>\n",
       "      <td>INDUSTRIAL &amp; ENGINEERING CHEMISTRY RESEARCH</td>\n",
       "      <td>...</td>\n",
       "      <td>Science Citation Index Expanded (SCI-EXPANDED)</td>\n",
       "      <td>Engineering</td>\n",
       "      <td>263LV</td>\n",
       "      <td>NaN</td>\n",
       "      <td>NaN</td>\n",
       "      <td>NaN</td>\n",
       "      <td>NaN</td>\n",
       "      <td>2022-12-21</td>\n",
       "      <td>WOS:000084126900024</td>\n",
       "      <td>0</td>\n",
       "    </tr>\n",
       "    <tr>\n",
       "      <th>1</th>\n",
       "      <td>J</td>\n",
       "      <td>Singh, UP; Prithiviraj, B; Aust, HJ; Sarma, BK</td>\n",
       "      <td>NaN</td>\n",
       "      <td>NaN</td>\n",
       "      <td>NaN</td>\n",
       "      <td>Singh, UP; Prithiviraj, B; Aust, HJ; Sarma, BK</td>\n",
       "      <td>NaN</td>\n",
       "      <td>NaN</td>\n",
       "      <td>Control of powdery mildew (Erysiphe pisi) of p...</td>\n",
       "      <td>ZEITSCHRIFT FUR PFLANZENKRANKHEITEN UND PFLANZ...</td>\n",
       "      <td>...</td>\n",
       "      <td>Science Citation Index Expanded (SCI-EXPANDED)</td>\n",
       "      <td>Plant Sciences</td>\n",
       "      <td>264JD</td>\n",
       "      <td>NaN</td>\n",
       "      <td>NaN</td>\n",
       "      <td>NaN</td>\n",
       "      <td>NaN</td>\n",
       "      <td>2022-12-21</td>\n",
       "      <td>WOS:000084176500004</td>\n",
       "      <td>0</td>\n",
       "    </tr>\n",
       "    <tr>\n",
       "      <th>2</th>\n",
       "      <td>J</td>\n",
       "      <td>Reddy, LV; Mukherjee, RN</td>\n",
       "      <td>NaN</td>\n",
       "      <td>NaN</td>\n",
       "      <td>NaN</td>\n",
       "      <td>Reddy, LV; Mukherjee, RN</td>\n",
       "      <td>NaN</td>\n",
       "      <td>NaN</td>\n",
       "      <td>Efficiency and duality of multiobjective fract...</td>\n",
       "      <td>INDIAN JOURNAL OF PURE &amp; APPLIED MATHEMATICS</td>\n",
       "      <td>...</td>\n",
       "      <td>Science Citation Index Expanded (SCI-EXPANDED)</td>\n",
       "      <td>Mathematics</td>\n",
       "      <td>185EU</td>\n",
       "      <td>NaN</td>\n",
       "      <td>NaN</td>\n",
       "      <td>NaN</td>\n",
       "      <td>NaN</td>\n",
       "      <td>2022-12-21</td>\n",
       "      <td>WOS:000079655800005</td>\n",
       "      <td>0</td>\n",
       "    </tr>\n",
       "    <tr>\n",
       "      <th>3</th>\n",
       "      <td>J</td>\n",
       "      <td>Singh, B; Srivastava, R; Narang, KK; Singh, VP</td>\n",
       "      <td>NaN</td>\n",
       "      <td>NaN</td>\n",
       "      <td>NaN</td>\n",
       "      <td>Singh, B; Srivastava, R; Narang, KK; Singh, VP</td>\n",
       "      <td>NaN</td>\n",
       "      <td>NaN</td>\n",
       "      <td>Synthesis and spectral studies of copper(II) s...</td>\n",
       "      <td>SYNTHESIS AND REACTIVITY IN INORGANIC AND META...</td>\n",
       "      <td>...</td>\n",
       "      <td>Science Citation Index Expanded (SCI-EXPANDED)</td>\n",
       "      <td>Chemistry</td>\n",
       "      <td>263FY</td>\n",
       "      <td>NaN</td>\n",
       "      <td>NaN</td>\n",
       "      <td>NaN</td>\n",
       "      <td>NaN</td>\n",
       "      <td>2022-12-21</td>\n",
       "      <td>WOS:000084115800014</td>\n",
       "      <td>0</td>\n",
       "    </tr>\n",
       "    <tr>\n",
       "      <th>4</th>\n",
       "      <td>J</td>\n",
       "      <td>Vasistha, P; Vishvakarma, BR</td>\n",
       "      <td>NaN</td>\n",
       "      <td>NaN</td>\n",
       "      <td>NaN</td>\n",
       "      <td>Vasistha, P; Vishvakarma, BR</td>\n",
       "      <td>NaN</td>\n",
       "      <td>NaN</td>\n",
       "      <td>Some studies on microstrip stacked antenna</td>\n",
       "      <td>IETE TECHNICAL REVIEW</td>\n",
       "      <td>...</td>\n",
       "      <td>Science Citation Index Expanded (SCI-EXPANDED)</td>\n",
       "      <td>Engineering; Telecommunications</td>\n",
       "      <td>264AC</td>\n",
       "      <td>NaN</td>\n",
       "      <td>NaN</td>\n",
       "      <td>NaN</td>\n",
       "      <td>NaN</td>\n",
       "      <td>2022-12-21</td>\n",
       "      <td>WOS:000084156600018</td>\n",
       "      <td>0</td>\n",
       "    </tr>\n",
       "  </tbody>\n",
       "</table>\n",
       "<p>5 rows × 72 columns</p>\n",
       "</div>"
      ],
      "text/plain": [
       "  Publication Type                                         Authors  \\\n",
       "0                J    Arora, MK; Sahu, N; Upadhyay, SN; Sinha, ASK   \n",
       "1                J  Singh, UP; Prithiviraj, B; Aust, HJ; Sarma, BK   \n",
       "2                J                        Reddy, LV; Mukherjee, RN   \n",
       "3                J  Singh, B; Srivastava, R; Narang, KK; Singh, VP   \n",
       "4                J                    Vasistha, P; Vishvakarma, BR   \n",
       "\n",
       "   Book Authors Book Editors  Book Group Authors  \\\n",
       "0           NaN          NaN                 NaN   \n",
       "1           NaN          NaN                 NaN   \n",
       "2           NaN          NaN                 NaN   \n",
       "3           NaN          NaN                 NaN   \n",
       "4           NaN          NaN                 NaN   \n",
       "\n",
       "                                Author Full Names  Book Author Full Names  \\\n",
       "0    Arora, MK; Sahu, N; Upadhyay, SN; Sinha, ASK                     NaN   \n",
       "1  Singh, UP; Prithiviraj, B; Aust, HJ; Sarma, BK                     NaN   \n",
       "2                        Reddy, LV; Mukherjee, RN                     NaN   \n",
       "3  Singh, B; Srivastava, R; Narang, KK; Singh, VP                     NaN   \n",
       "4                    Vasistha, P; Vishvakarma, BR                     NaN   \n",
       "\n",
       "  Group Authors                                      Article Title  \\\n",
       "0           NaN  Alumina-supported cadmium sulfide photocatalys...   \n",
       "1           NaN  Control of powdery mildew (Erysiphe pisi) of p...   \n",
       "2           NaN  Efficiency and duality of multiobjective fract...   \n",
       "3           NaN  Synthesis and spectral studies of copper(II) s...   \n",
       "4           NaN         Some studies on microstrip stacked antenna   \n",
       "\n",
       "                                        Source Title  ...  \\\n",
       "0        INDUSTRIAL & ENGINEERING CHEMISTRY RESEARCH  ...   \n",
       "1  ZEITSCHRIFT FUR PFLANZENKRANKHEITEN UND PFLANZ...  ...   \n",
       "2       INDIAN JOURNAL OF PURE & APPLIED MATHEMATICS  ...   \n",
       "3  SYNTHESIS AND REACTIVITY IN INORGANIC AND META...  ...   \n",
       "4                              IETE TECHNICAL REVIEW  ...   \n",
       "\n",
       "                             Web of Science Index  \\\n",
       "0  Science Citation Index Expanded (SCI-EXPANDED)   \n",
       "1  Science Citation Index Expanded (SCI-EXPANDED)   \n",
       "2  Science Citation Index Expanded (SCI-EXPANDED)   \n",
       "3  Science Citation Index Expanded (SCI-EXPANDED)   \n",
       "4  Science Citation Index Expanded (SCI-EXPANDED)   \n",
       "\n",
       "                    Research Areas IDS Number Pubmed Id  \\\n",
       "0                      Engineering      263LV       NaN   \n",
       "1                   Plant Sciences      264JD       NaN   \n",
       "2                      Mathematics      185EU       NaN   \n",
       "3                        Chemistry      263FY       NaN   \n",
       "4  Engineering; Telecommunications      264AC       NaN   \n",
       "\n",
       "  Open Access Designations Highly Cited Status Hot Paper Status  \\\n",
       "0                      NaN                 NaN              NaN   \n",
       "1                      NaN                 NaN              NaN   \n",
       "2                      NaN                 NaN              NaN   \n",
       "3                      NaN                 NaN              NaN   \n",
       "4                      NaN                 NaN              NaN   \n",
       "\n",
       "  Date of Export   UT (Unique WOS ID) Web of Science Record  \n",
       "0     2022-12-21  WOS:000084126900024                     0  \n",
       "1     2022-12-21  WOS:000084176500004                     0  \n",
       "2     2022-12-21  WOS:000079655800005                     0  \n",
       "3     2022-12-21  WOS:000084115800014                     0  \n",
       "4     2022-12-21  WOS:000084156600018                     0  \n",
       "\n",
       "[5 rows x 72 columns]"
      ]
     },
     "execution_count": 7,
     "metadata": {},
     "output_type": "execute_result"
    }
   ],
   "source": [
    "df.head()"
   ]
  },
  {
   "cell_type": "code",
   "execution_count": 8,
   "id": "f686454f",
   "metadata": {},
   "outputs": [
    {
     "data": {
      "text/plain": [
       "Index(['Publication Type', 'Authors', 'Book Authors', 'Book Editors',\n",
       "       'Book Group Authors', 'Author Full Names', 'Book Author Full Names',\n",
       "       'Group Authors', 'Article Title', 'Source Title', 'Book Series Title',\n",
       "       'Book Series Subtitle', 'Language', 'Document Type', 'Conference Title',\n",
       "       'Conference Date', 'Conference Location', 'Conference Sponsor',\n",
       "       'Conference Host', 'Author Keywords', 'Keywords Plus', 'Abstract',\n",
       "       'Addresses', 'Affiliations', 'Reprint Addresses', 'Email Addresses',\n",
       "       'Researcher Ids', 'ORCIDs', 'Funding Orgs', 'Funding Name Preferred',\n",
       "       'Funding Text', 'Cited References', 'Cited Reference Count',\n",
       "       'Times Cited, WoS Core', 'Times Cited, All Databases',\n",
       "       '180 Day Usage Count', 'Since 2013 Usage Count', 'Publisher',\n",
       "       'Publisher City', 'Publisher Address', 'ISSN', 'eISSN', 'ISBN',\n",
       "       'Journal Abbreviation', 'Journal ISO Abbreviation', 'Publication Date',\n",
       "       'Publication Year', 'Volume', 'Issue', 'Part Number', 'Supplement',\n",
       "       'Special Issue', 'Meeting Abstract', 'Start Page', 'End Page',\n",
       "       'Article Number', 'DOI', 'DOI Link', 'Book DOI', 'Early Access Date',\n",
       "       'Number of Pages', 'WoS Categories', 'Web of Science Index',\n",
       "       'Research Areas', 'IDS Number', 'Pubmed Id', 'Open Access Designations',\n",
       "       'Highly Cited Status', 'Hot Paper Status', 'Date of Export',\n",
       "       'UT (Unique WOS ID)', 'Web of Science Record'],\n",
       "      dtype='object')"
      ]
     },
     "execution_count": 8,
     "metadata": {},
     "output_type": "execute_result"
    }
   ],
   "source": [
    "df.columns"
   ]
  },
  {
   "cell_type": "code",
   "execution_count": 9,
   "id": "36a7c593",
   "metadata": {},
   "outputs": [
    {
     "data": {
      "text/plain": [
       "0      1999.0\n",
       "1      1999.0\n",
       "2      1999.0\n",
       "3      1999.0\n",
       "4      1999.0\n",
       "        ...  \n",
       "995    2000.0\n",
       "996    2000.0\n",
       "997    2000.0\n",
       "998    2000.0\n",
       "999    1999.0\n",
       "Name: Publication Year, Length: 22624, dtype: float64"
      ]
     },
     "execution_count": 9,
     "metadata": {},
     "output_type": "execute_result"
    }
   ],
   "source": [
    "df['Publication Year']"
   ]
  },
  {
   "cell_type": "code",
   "execution_count": 10,
   "id": "22fd90f0",
   "metadata": {},
   "outputs": [],
   "source": [
    "import seaborn as sns"
   ]
  },
  {
   "cell_type": "code",
   "execution_count": 11,
   "id": "876941bd",
   "metadata": {},
   "outputs": [
    {
     "data": {
      "image/png": "[encoded data removed]",
      "text/plain": [
       "<Figure size 640x480 with 1 Axes>"
      ]
     },
     "metadata": {},
     "output_type": "display_data"
    }
   ],
   "source": [
    "ax = sns.countplot(x=\"Publication Year\",data=df)"
   ]
  },
  {
   "cell_type": "code",
   "execution_count": 12,
   "id": "735bd826",
   "metadata": {},
   "outputs": [],
   "source": [
    "from collections import Counter"
   ]
  },
  {
   "cell_type": "code",
   "execution_count": 13,
   "id": "2de7bb9c",
   "metadata": {
    "scrolled": true
   },
   "outputs": [
    {
     "data": {
      "text/plain": [
       "Counter({1999.0: 410,\n",
       "         1998.0: 412,\n",
       "         1997.0: 390,\n",
       "         1996.0: 441,\n",
       "         1995.0: 426,\n",
       "         1994.0: 407,\n",
       "         1993.0: 382,\n",
       "         1991.0: 451,\n",
       "         2020.0: 1536,\n",
       "         2019.0: 1427,\n",
       "         2018.0: 1352,\n",
       "         2017.0: 1238,\n",
       "         2016.0: 1220,\n",
       "         2015.0: 1245,\n",
       "         2014.0: 1216,\n",
       "         2013.0: 1184,\n",
       "         2012.0: 1064,\n",
       "         2011.0: 1101,\n",
       "         2010.0: 953,\n",
       "         2009.0: 917,\n",
       "         2008.0: 810,\n",
       "         2007.0: 664,\n",
       "         2006.0: 497,\n",
       "         2005.0: 404,\n",
       "         2004.0: 374,\n",
       "         2003.0: 361,\n",
       "         2002.0: 322,\n",
       "         2000.0: 382,\n",
       "         1992.0: 476,\n",
       "         2021.0: 167,\n",
       "         2001.0: 352,\n",
       "         2022.0: 41})"
      ]
     },
     "execution_count": 13,
     "metadata": {},
     "output_type": "execute_result"
    }
   ],
   "source": [
    "yearwise_list = df['Publication Year'].dropna().tolist()\n",
    "freqs = Counter(yearwise_list)\n",
    "freqs"
   ]
  },
  {
   "cell_type": "code",
   "execution_count": 14,
   "id": "85c0707b",
   "metadata": {},
   "outputs": [],
   "source": [
    "freqs.pop(2021.0)\n",
    "freqs.pop(2022.0)\n",
    "\n",
    "years = [int(f) for f in sorted(freqs)]\n",
    "counts = [freqs[y] for y in years]\n",
    "\n",
    "yearwise_df = pd.DataFrame({\"Year\" : years, \"Publications\" : counts})"
   ]
  },
  {
   "cell_type": "markdown",
   "id": "8803fdd8",
   "metadata": {},
   "source": [
    "# final Result - Yearwise publish count"
   ]
  },
  {
   "cell_type": "code",
   "execution_count": 15,
   "id": "4fc738fd",
   "metadata": {},
   "outputs": [
    {
     "data": {
      "text/html": [
       "<div>\n",
       "<style scoped>\n",
       "    .dataframe tbody tr th:only-of-type {\n",
       "        vertical-align: middle;\n",
       "    }\n",
       "\n",
       "    .dataframe tbody tr th {\n",
       "        vertical-align: top;\n",
       "    }\n",
       "\n",
       "    .dataframe thead th {\n",
       "        text-align: right;\n",
       "    }\n",
       "</style>\n",
       "<table border=\"1\" class=\"dataframe\">\n",
       "  <thead>\n",
       "    <tr style=\"text-align: right;\">\n",
       "      <th></th>\n",
       "      <th>Year</th>\n",
       "      <th>Publications</th>\n",
       "    </tr>\n",
       "  </thead>\n",
       "  <tbody>\n",
       "    <tr>\n",
       "      <th>0</th>\n",
       "      <td>1991</td>\n",
       "      <td>451</td>\n",
       "    </tr>\n",
       "    <tr>\n",
       "      <th>1</th>\n",
       "      <td>1992</td>\n",
       "      <td>476</td>\n",
       "    </tr>\n",
       "    <tr>\n",
       "      <th>2</th>\n",
       "      <td>1993</td>\n",
       "      <td>382</td>\n",
       "    </tr>\n",
       "    <tr>\n",
       "      <th>3</th>\n",
       "      <td>1994</td>\n",
       "      <td>407</td>\n",
       "    </tr>\n",
       "    <tr>\n",
       "      <th>4</th>\n",
       "      <td>1995</td>\n",
       "      <td>426</td>\n",
       "    </tr>\n",
       "    <tr>\n",
       "      <th>5</th>\n",
       "      <td>1996</td>\n",
       "      <td>441</td>\n",
       "    </tr>\n",
       "    <tr>\n",
       "      <th>6</th>\n",
       "      <td>1997</td>\n",
       "      <td>390</td>\n",
       "    </tr>\n",
       "    <tr>\n",
       "      <th>7</th>\n",
       "      <td>1998</td>\n",
       "      <td>412</td>\n",
       "    </tr>\n",
       "    <tr>\n",
       "      <th>8</th>\n",
       "      <td>1999</td>\n",
       "      <td>410</td>\n",
       "    </tr>\n",
       "    <tr>\n",
       "      <th>9</th>\n",
       "      <td>2000</td>\n",
       "      <td>382</td>\n",
       "    </tr>\n",
       "    <tr>\n",
       "      <th>10</th>\n",
       "      <td>2001</td>\n",
       "      <td>352</td>\n",
       "    </tr>\n",
       "    <tr>\n",
       "      <th>11</th>\n",
       "      <td>2002</td>\n",
       "      <td>322</td>\n",
       "    </tr>\n",
       "    <tr>\n",
       "      <th>12</th>\n",
       "      <td>2003</td>\n",
       "      <td>361</td>\n",
       "    </tr>\n",
       "    <tr>\n",
       "      <th>13</th>\n",
       "      <td>2004</td>\n",
       "      <td>374</td>\n",
       "    </tr>\n",
       "    <tr>\n",
       "      <th>14</th>\n",
       "      <td>2005</td>\n",
       "      <td>404</td>\n",
       "    </tr>\n",
       "    <tr>\n",
       "      <th>15</th>\n",
       "      <td>2006</td>\n",
       "      <td>497</td>\n",
       "    </tr>\n",
       "    <tr>\n",
       "      <th>16</th>\n",
       "      <td>2007</td>\n",
       "      <td>664</td>\n",
       "    </tr>\n",
       "    <tr>\n",
       "      <th>17</th>\n",
       "      <td>2008</td>\n",
       "      <td>810</td>\n",
       "    </tr>\n",
       "    <tr>\n",
       "      <th>18</th>\n",
       "      <td>2009</td>\n",
       "      <td>917</td>\n",
       "    </tr>\n",
       "    <tr>\n",
       "      <th>19</th>\n",
       "      <td>2010</td>\n",
       "      <td>953</td>\n",
       "    </tr>\n",
       "    <tr>\n",
       "      <th>20</th>\n",
       "      <td>2011</td>\n",
       "      <td>1101</td>\n",
       "    </tr>\n",
       "    <tr>\n",
       "      <th>21</th>\n",
       "      <td>2012</td>\n",
       "      <td>1064</td>\n",
       "    </tr>\n",
       "    <tr>\n",
       "      <th>22</th>\n",
       "      <td>2013</td>\n",
       "      <td>1184</td>\n",
       "    </tr>\n",
       "    <tr>\n",
       "      <th>23</th>\n",
       "      <td>2014</td>\n",
       "      <td>1216</td>\n",
       "    </tr>\n",
       "    <tr>\n",
       "      <th>24</th>\n",
       "      <td>2015</td>\n",
       "      <td>1245</td>\n",
       "    </tr>\n",
       "    <tr>\n",
       "      <th>25</th>\n",
       "      <td>2016</td>\n",
       "      <td>1220</td>\n",
       "    </tr>\n",
       "    <tr>\n",
       "      <th>26</th>\n",
       "      <td>2017</td>\n",
       "      <td>1238</td>\n",
       "    </tr>\n",
       "    <tr>\n",
       "      <th>27</th>\n",
       "      <td>2018</td>\n",
       "      <td>1352</td>\n",
       "    </tr>\n",
       "    <tr>\n",
       "      <th>28</th>\n",
       "      <td>2019</td>\n",
       "      <td>1427</td>\n",
       "    </tr>\n",
       "    <tr>\n",
       "      <th>29</th>\n",
       "      <td>2020</td>\n",
       "      <td>1536</td>\n",
       "    </tr>\n",
       "  </tbody>\n",
       "</table>\n",
       "</div>"
      ],
      "text/plain": [
       "    Year  Publications\n",
       "0   1991           451\n",
       "1   1992           476\n",
       "2   1993           382\n",
       "3   1994           407\n",
       "4   1995           426\n",
       "5   1996           441\n",
       "6   1997           390\n",
       "7   1998           412\n",
       "8   1999           410\n",
       "9   2000           382\n",
       "10  2001           352\n",
       "11  2002           322\n",
       "12  2003           361\n",
       "13  2004           374\n",
       "14  2005           404\n",
       "15  2006           497\n",
       "16  2007           664\n",
       "17  2008           810\n",
       "18  2009           917\n",
       "19  2010           953\n",
       "20  2011          1101\n",
       "21  2012          1064\n",
       "22  2013          1184\n",
       "23  2014          1216\n",
       "24  2015          1245\n",
       "25  2016          1220\n",
       "26  2017          1238\n",
       "27  2018          1352\n",
       "28  2019          1427\n",
       "29  2020          1536"
      ]
     },
     "execution_count": 15,
     "metadata": {},
     "output_type": "execute_result"
    }
   ],
   "source": [
    "yearwise_df"
   ]
  },
  {
   "cell_type": "code",
   "execution_count": 16,
   "id": "f81921c5",
   "metadata": {},
   "outputs": [],
   "source": [
    "import numpy as np\n",
    "import matplotlib.pyplot as plt"
   ]
  },
  {
   "cell_type": "code",
   "execution_count": 17,
   "id": "441914db",
   "metadata": {},
   "outputs": [
    {
     "data": {
      "text/plain": [
       "<BarContainer object of 30 artists>"
      ]
     },
     "execution_count": 17,
     "metadata": {},
     "output_type": "execute_result"
    },
    {
     "data": {
      "image/png": "[encoded data removed]",
      "text/plain": [
       "<Figure size 640x480 with 1 Axes>"
      ]
     },
     "metadata": {},
     "output_type": "display_data"
    }
   ],
   "source": [
    "plt.bar(yearwise_df['Year'], height=yearwise_df['Publications'])"
   ]
  },
  {
   "cell_type": "code",
   "execution_count": 18,
   "id": "c6bb434d",
   "metadata": {},
   "outputs": [
    {
     "data": {
      "image/png": "[encoded data removed]",
      "text/plain": [
       "<Figure size 640x480 with 1 Axes>"
      ]
     },
     "metadata": {},
     "output_type": "display_data"
    }
   ],
   "source": [
    "barplt = sns.barplot(data=yearwise_df, x=\"Year\", y=\"Publications\")"
   ]
  },
  {
   "attachments": {
    "image.png": {
     "image/png": "[encoded data removed]"
    }
   },
   "cell_type": "markdown",
   "id": "ca448565",
   "metadata": {},
   "source": [
    "![image.png](attachment:image.png)\n"
   ]
  },
  {
   "cell_type": "code",
   "execution_count": 19,
   "id": "e800422b",
   "metadata": {},
   "outputs": [
    {
     "data": {
      "text/plain": [
       "(1536, 451, 30)"
      ]
     },
     "execution_count": 19,
     "metadata": {},
     "output_type": "execute_result"
    }
   ],
   "source": [
    "vbegin = yearwise_df['Publications'].values[0]\n",
    "vfinal = yearwise_df['Publications'].values[-1]\n",
    "t = yearwise_df.shape[0]\n",
    "\n",
    "vfinal, vbegin, t"
   ]
  },
  {
   "cell_type": "code",
   "execution_count": 20,
   "id": "6b5a2f89",
   "metadata": {},
   "outputs": [
    {
     "data": {
      "text/plain": [
       "0.041694782969629474"
      ]
     },
     "execution_count": 20,
     "metadata": {},
     "output_type": "execute_result"
    }
   ],
   "source": [
    "cagr = (vfinal/vbegin)**(1/t) -1\n",
    "cagr"
   ]
  },
  {
   "cell_type": "code",
   "execution_count": 21,
   "id": "b5d173db",
   "metadata": {},
   "outputs": [
    {
     "data": {
      "text/plain": [
       "'cagr of bhu between 1991-2020, is 0.041694782969629474'"
      ]
     },
     "execution_count": 21,
     "metadata": {},
     "output_type": "execute_result"
    }
   ],
   "source": [
    "\"cagr of bhu between {}-{}, is {}\".format(\n",
    "    yearwise_df['Year'].values[0],\n",
    "    yearwise_df['Year'].values[-1],\n",
    "    cagr\n",
    ")"
   ]
  },
  {
   "cell_type": "markdown",
   "id": "c7435582",
   "metadata": {},
   "source": [
    "Conclusion:\n",
    "we can conclude that compound annual growth of BHU's research output is - 0.04 over the year 1991-2020"
   ]
  }
 ],
 "metadata": {
  "kernelspec": {
   "display_name": "Python 3 (ipykernel)",
   "language": "python",
   "name": "python3"
  },
  "language_info": {
   "codemirror_mode": {
    "name": "ipython",
    "version": 3
   },
   "file_extension": ".py",
   "mimetype": "text/x-python",
   "name": "python",
   "nbconvert_exporter": "python",
   "pygments_lexer": "ipython3",
   "version": "3.9.2"
  }
 },
 "nbformat": 4,
 "nbformat_minor": 5
}
